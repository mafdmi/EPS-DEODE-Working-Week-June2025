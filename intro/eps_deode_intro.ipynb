{
 "cells": [
  {
   "cell_type": "markdown",
   "metadata": {
    "slideshow": {
     "slide_type": "slide"
    }
   },
   "source": [
    "# Running EPS in DEODE"
   ]
  },
  {
   "cell_type": "markdown",
   "metadata": {
    "slideshow": {
     "slide_type": "slide"
    },
    "tags": [
     "transition: none"
    ]
   },
   "source": [
    "## EPS Configuration by design\n",
    "\n",
    "- Every DEODE run is now an ensemble - the deterministic case is just a special case with only one member\n",
    "- Ensemble of configurations, where each member \"perturb\" the default configuration.\n",
    "- One can e.g. think of running an ensemble of\n",
    "  - a set of different model configurations (e.g. different physics options, different initial conditions, different boundary conditions, etc.)\n",
    "  - a set of different CSCs\n",
    "  - a set of different domains\n",
    "  - a set of different domain resolutions and extends\n",
    "  - a set of different time settings\n",
    "  - etc."
   ]
  },
  {
   "cell_type": "markdown",
   "metadata": {
    "slideshow": {
     "slide_type": "slide"
    },
    "tags": [
     "transition: none"
    ]
   },
   "source": [
    "## Include EPS file to run ensemble\n",
    "<pre>\n",
    "--config-file\n",
    "deode/data/config_files/config.toml\n",
    "deode/data/config_files/include/domains/500m_Helsinki_20241126.toml\n",
    "<b>deode/data/config_files/include/eps/eps_members.toml</b>\n",
    "deode/data/config_files/modifications/harmonie_arome.toml\n",
    "deode/data/config_files/modifications/CY46h1.toml\n",
    "deode/data/config_files/modifications/submission/@HOST@_CY46h1.toml\n",
    "deode/data/config_files/modifications/submission/@HOST@_CY46h1_large_domain.toml\n",
    "</pre>\n",
    "\n",
    "`poetry run deode case ?/path/to/configuration --start-suite`"
   ]
  },
  {
   "cell_type": "markdown",
   "metadata": {
    "slideshow": {
     "slide_type": "slide"
    }
   },
   "source": [
    "## Example eps config files\n",
    "\n",
    "In `./deode/data/config_files/include/eps/` there are a bunch of example eps toml files to try out:\n",
    "```\n",
    "deode/data/config_files/include/eps/\n",
    "├── eps_3members_IFSENS_common_mars_prep_and_spp.toml\n",
    "├── eps_3members_IFSENS_common_mars_prep.toml\n",
    "├── eps_3members_IFSENS_member_specific_mars_prep_and_spp.toml\n",
    "├── eps_3members_IFSENS_member_specific_static_data.toml\n",
    "├── eps_3members_ilv7.toml\n",
    "├── eps_demo_cases1.toml\n",
    "└── eps_demo_cases2.toml\n",
    "```\n",
    "\n",
    "E.g. try \n",
    "```\n",
    "poetry run deode case --config-file ./deode/data/config_files/config.toml\n",
    "    ./deode/data/config_files/include/eps/\\\n",
    "      eps_3members_IFSENS_common_mars_prep_and_spp.toml --start-suite\n",
    "```\n",
    "\n",
    "REMEMBER: Update the starttime for IFSENS experiment to be less than 2 weeks ago, since old eps data is removed from mars.\n"
   ]
  },
  {
   "cell_type": "markdown",
   "metadata": {
    "slideshow": {
     "slide_type": "slide"
    }
   },
   "source": [
    "## Example eps config files\n",
    "\n",
    "Content of\n",
    "```\n",
    "./deode/data/config_files/include/eps/eps_3members_IFSENS_common_mars_prep_and_spp.toml\n",
    "```\n",
    ":\n",
    "```\n",
    "[boundaries.ifs]\n",
    "  bdmembers = [0, 1, 2]\n",
    "  selection = \"IFSENS\"\n",
    "\n",
    "[eps.general]\n",
    "  members = \"0:3\"\n",
    "\n",
    "[eps.member_settings.boundaries.ifs]\n",
    "  bdmember = [0, 1, 2]\n",
    "\n",
    "[eps.member_settings.namelist_update.master.forecast.namspp]\n",
    "  iezdiag_pos = {0 = 1, \"1:\" = -1}\n",
    "  lspp = {0 = false, \"1:\" = true}\n",
    "```"
   ]
  },
  {
   "cell_type": "markdown",
   "metadata": {
    "slideshow": {
     "slide_type": "slide"
    }
   },
   "source": [
    "## Resulting config file\n",
    "\n",
    "- Only deviating settings are saved\n",
    "```\n",
    "...\n",
    "\n",
    "[eps.members]\n",
    "\n",
    "[eps.members.0]\n",
    "\n",
    "[eps.members.0.boundaries.ifs]\n",
    "  bdmember = 0\n",
    "\n",
    "[eps.members.0.namelist_update.master.forecast.namspp]\n",
    "  iezdiag_pos = 1\n",
    "  lspp = false\n",
    "\n",
    "[eps.members.1]\n",
    "\n",
    "[eps.members.1.boundaries.ifs]\n",
    "  bdmember = 1\n",
    "\n",
    "[eps.members.1.namelist_update.master.forecast.namspp]\n",
    "  iezdiag_pos = -1\n",
    "  lspp = true\n",
    "\n",
    "...\n",
    "```"
   ]
  },
  {
   "cell_type": "markdown",
   "metadata": {
    "slideshow": {
     "slide_type": "slide"
    }
   },
   "source": [
    "## How to specify member specific settings?\n",
    "\n",
    "1. Single value -> all members get the same setting\n",
    "```toml\n",
    "[eps.member_settings]\n",
    "parameter = value\n",
    "```\n",
    "2. List of values -> first member get first item, second member get second item, etc. (with \"circular boundary condition\")\n",
    "```toml\n",
    "[eps.member_settings]\n",
    "parameter = [value1, value2, value3, ...]\n",
    "```\n",
    "3. Dict of mbr/value pairs -> a member get the value of the mbr key\n",
    "```toml\n",
    "[eps.member_settings]\n",
    "parameter = {0: value1, 1: value2, \"2:10:2\": value3, ...}\n",
    "```"
   ]
  },
  {
   "cell_type": "markdown",
   "metadata": {
    "slideshow": {
     "slide_type": "slide"
    }
   },
   "source": [
    "## How to specify member specific settings?\n",
    "\n",
    "3. Dict of mbr/value pairs -> a member get the value of the mbr key\n",
    "```toml\n",
    "[eps.member_settings]\n",
    "parameter = {0: value1, 1: value2, \"2:10:2\": value3, ...}\n",
    "```\n",
    "<br>\n",
    "\n",
    "- \"m:n\" keys are interpreted as slices, that is `{\"2:10:2\": value3}` assigns `value3` to members 2, 4, 6, 8 and 10.\n",
    "- The `[eps.general.members]` setting limits parameter slices. E.g. if `[eps.general.members] = \"0:10\"`,\n",
    "  ```toml\n",
    "    [eps.member_settings]\n",
    "    parameter = {\"6:16\": value1}\n",
    "  ```\n",
    "  will set `parameter = value1` for members 6, 7, 8, 9 and 10. \n",
    "- For members with no mbr/value pair, the default is used. I.e. in the above example, members 0-5 will get the default value."
   ]
  },
  {
   "cell_type": "markdown",
   "metadata": {
    "slideshow": {
     "slide_type": "slide"
    }
   },
   "source": [
    "## How to specify member specific settings?\n",
    "\n",
    "4. Python subclass of `deode.eps.custom_generators:BaseGenerator`. Generates member settings based on list of realizations.\n",
    "\n",
    "```toml\n",
    "[eps.member_settings]\n",
    "parameter = \"deode.eps.custom_generators.BoolGenerator\"\n",
    "```\n",
    "<br>\n",
    "\n",
    "```python\n",
    "@pydantic_dataclass\n",
    "class BoolGenerator(BaseGenerator[bool]):\n",
    "    \"\"\"Example generator class to generate random boolean values.\"\"\"\n",
    "\n",
    "    def __iter__(self):\n",
    "        for _ in self.members:\n",
    "            yield random.choice([True, False]) \n",
    "```"
   ]
  },
  {
   "cell_type": "markdown",
   "metadata": {
    "slideshow": {
     "slide_type": "slide"
    }
   },
   "source": [
    "## How to specify member specific settings?\n",
    "\n",
    "5. Using modification files. Handy in cases with many member specific adjustments, e.g. in CSC ensembles\n",
    "```toml\n",
    "[eps.member_settings.modifications]\n",
    "mod1 = {1: \"/path/to/mbr001/mod1.toml\", 2: \"/path/to/mbr002/mod1.toml\", ...}\n",
    "```\n",
    "**NOTE:**\n",
    "- It’s not important what the keys in the modification section are called. They are just used to label the different modification files.\n",
    "- The settings in the modification files will overwrite any existing value for that setting."
   ]
  },
  {
   "cell_type": "markdown",
   "metadata": {
    "slideshow": {
     "slide_type": "slide"
    }
   },
   "source": [
    "## How to specify member specific settings?\n",
    "\n",
    "E.g. for ensemble of the 3 CSCs:\n",
    "\n",
    "```toml\n",
    "[eps.general]\n",
    "  members = \"0:3\"\n",
    "  run_continously = false\n",
    "\n",
    "[eps.member_settings.include]\n",
    "  csc_include = [\"modifications/arome.toml\", \"modifications/harmonie_arome.toml\", \"modifications/alaro.toml\"]\n",
    "  cycle_include = [\"modifications/CY48t3.toml\", \"modifications/CY46h1.toml\", \"modifications/CY48t3.toml\"]\n",
    "  submission_include = [\"modifications/submission/@HOST@_CY48t3.toml\", \"modifications/submission/@HOST@_CY46h1.toml\", \"modifications/submission/@HOST@_CY48t3_alaro.toml\"]\n",
    "  vertical_levels_include = {2 = \"include/vertical_levels/MF_87.toml\"}\n",
    "\n",
    "[eps.member_settings.system]\n",
    "  wrk = \"@CASEDIR@/@YYYY@@MM@@DD@_@HH@@mm@/@MEMBER_STR@\"\n",
    "\n",
    "[suite_control]\n",
    "  member_specific_mars_prep = false\n",
    "  member_specific_static_data = true\n",
    "```\n"
   ]
  },
  {
   "cell_type": "markdown",
   "metadata": {
    "slideshow": {
     "slide_type": "slide"
    }
   },
   "source": [
    "## Location of data\n",
    "\n",
    "- mbr??? in paths, e.g.\n",
    "\n",
    "```\n",
    "ls /scratch/dnk3604/deode/EPS_DEMO_CASES1_nwp_DEMO_60x80_2500m_20250209/archive/2025/02/09/00/mbr001/\n",
    "config.toml               GRIBDEOD+0005h00m00s.sfx  GRIBPFDEOD+0004h00m00s     ICMSHDEOD+0001h00m00s.sfx  ICMSHDEOD+0004h00m00s.sfx\n",
    "GRIBDEOD+0000h00m00s.sfx  GRIBDEOD+0006h00m00s.sfx  GRIBPFDEOD+0005h00m00s     ICMSHDEOD+0002h00m00s      ICMSHDEOD+0005h00m00s\n",
    "GRIBDEOD+0001h00m00s.sfx  GRIBPFDEOD+0000h00m00s    GRIBPFDEOD+0006h00m00s     ICMSHDEOD+0002h00m00s.sfx  ICMSHDEOD+0005h00m00s.sfx\n",
    "GRIBDEOD+0002h00m00s.sfx  GRIBPFDEOD+0001h00m00s    ICMSHDEOD+0000h00m00s      ICMSHDEOD+0003h00m00s      ICMSHDEOD+0006h00m00s\n",
    "GRIBDEOD+0003h00m00s.sfx  GRIBPFDEOD+0002h00m00s    ICMSHDEOD+0000h00m00s.sfx  ICMSHDEOD+0003h00m00s.sfx  ICMSHDEOD+0006h00m00s.sfx\n",
    "GRIBDEOD+0004h00m00s.sfx  GRIBPFDEOD+0003h00m00s    ICMSHDEOD+0001h00m00s      ICMSHDEOD+0004h00m00s      ICMSHDEODINIT.sfx\n",
    "```\n",
    "\n",
    "```\n",
    "els ec:/dnk3604/deode/EPS_DEMO_CASES1_nwp_DEMO_60x80_2500m_20250209/sqlite/mbr001\n",
    "FCTABLE_CCtot_202502_00.sqlite\n",
    "FCTABLE_CCtot_202502_06.sqlite\n",
    "FCTABLE_D10m_202502_00.sqlite\n",
    "FCTABLE_D10m_202502_06.sqlite\n",
    "FCTABLE_D_202502_00.sqlite\n",
    "FCTABLE_D_202502_06.sqlite\n",
    "FCTABLE_Gmax_202502_00.sqlite\n",
    "FCTABLE_Gmax_202502_06.sqlite\n",
    "FCTABLE_Pcp_202502_00.sqlite\n",
    "...\n",
    "```"
   ]
  },
  {
   "cell_type": "markdown",
   "metadata": {},
   "source": [
    "## Documentation\n",
    "\n",
    "The EPS setup is documented at https://destination-earth-digital-twins.github.io/deode-workflow-docs/misc_section_in_doc_page.html#eps-configuration-by-design"
   ]
  }
 ],
 "metadata": {
  "language_info": {
   "name": "python"
  }
 },
 "nbformat": 4,
 "nbformat_minor": 2
}
